{
 "cells": [
  {
   "cell_type": "code",
   "execution_count": 2,
   "metadata": {
    "colab": {
     "base_uri": "https://localhost:8080/"
    },
    "id": "lmrGAQEbZ29_",
    "outputId": "91777fb1-c358-4e36-eaed-ad1a52055419",
    "scrolled": false
   },
   "outputs": [
    {
     "name": "stdout",
     "output_type": "stream",
     "text": [
      "Drive already mounted at /content/drive; to attempt to forcibly remount, call drive.mount(\"/content/drive\", force_remount=True).\n"
     ]
    }
   ],
   "source": [
    "# from google.colab import drive\n",
    "# drive.mount('/content/drive')"
   ]
  },
  {
   "cell_type": "code",
   "execution_count": 41,
   "metadata": {},
   "outputs": [],
   "source": [
    "# pip install tensorflow"
   ]
  },
  {
   "cell_type": "code",
   "execution_count": 42,
   "metadata": {},
   "outputs": [],
   "source": [
    "# pip install keras"
   ]
  },
  {
   "cell_type": "code",
   "execution_count": 1,
   "metadata": {
    "id": "v8Jw51InGfpl"
   },
   "outputs": [],
   "source": [
    "import os, csv, re, datetime\n",
    "import sys, getopt\n",
    "from os import mkdir; \n",
    "\n",
    "from keras import models\n",
    "from keras import layers\n",
    "from keras import optimizers\n",
    "from keras import losses\n",
    "from keras import backend as K \n",
    "\n",
    "from tensorflow import device\n",
    "import tensorflow as tf\n",
    "\n",
    "import numpy as np\n",
    "import h5py"
   ]
  },
  {
   "cell_type": "code",
   "execution_count": 2,
   "metadata": {
    "id": "6rZO6y4SGu7c"
   },
   "outputs": [],
   "source": [
    "#Data Loader Functions\n",
    "\n",
    "def load(file_path):\n",
    "    \"\"\"Load data for one day, return as numpy array with normalized samples of each\n",
    "        15 time steps in random order.\n",
    "    \n",
    "        Args.:\n",
    "            file_path (str): file path of h5 file for one day\n",
    "            \n",
    "        Returns: numpy array of shape (18, 15, 9, 50, 50)\n",
    "    \"\"\"\n",
    "    #load h5 file\n",
    "    fr = h5py.File(file_path, 'r')\n",
    "    group_key = list(fr.keys())[0]\n",
    "    data = list(fr[group_key])\n",
    "    \n",
    "    #split in 18 samples of each length 15 time bins\n",
    "    data = data[:270]\n",
    "    data = data[:270]\n",
    "    for i in range(len(data)):\n",
    "        data[i] = data[i][150:200,150:200,:]\n",
    "    data = np.stack(data, axis=0)\n",
    "    data = np.array(np.split(data, 18, axis=0), dtype=np.float32)\n",
    "    \n",
    "    #transpose to (samples, timesteps, channels, rows, columns)\n",
    "    data = np.transpose(data, (0, 1, 4, 2, 3))\n",
    "    \n",
    "    #randomly shuffle, rescale and return data\n",
    "    np.random.shuffle(data)\n",
    "    data /= 255.\n",
    "    return data\n",
    "    \n",
    "\n",
    "def list_filenames(directory):\n",
    "    \"\"\"Auxilliary function which returns list of file names in directory in random order\n",
    "    \n",
    "        Args.: \n",
    "            directory (str): path to directory\n",
    "        \n",
    "        Returns: list\n",
    "    \"\"\"\n",
    "    filenames = os.listdir(directory)\n",
    "    np.random.shuffle(filenames)\n",
    "        \n",
    "    return filenames\n",
    "\n",
    "\n",
    "def return_date(file_name):\n",
    "    \"\"\"Auxilliary function which returns datetime object from Traffic4Cast filename.\n",
    "    \n",
    "        Args.:\n",
    "            file_name (str): file name, e.g., '20180516_100m_bins.h5'\n",
    "        \n",
    "        Returns: date string, e.g., '2018-05-16'\n",
    "    \"\"\"\n",
    "    match = re.search(r'\\d{4}-\\d{2}-\\d{2}', file_name)\n",
    "    date = match.group() #datetime.datetime.strptime(match.group(), '%YYYY-%mm-%dd').date()\n",
    "    return date\n",
    "\n"
   ]
  },
  {
   "cell_type": "code",
   "execution_count": 8,
   "metadata": {
    "id": "5zqHm7COucnV"
   },
   "outputs": [],
   "source": [
    "\"\"\"\n",
    "*Model Structure*\n",
    "- the expected inputs are of shape (None, 12, 9, 50, 50), referring to [t-12:t] time bin \n",
    "    arrays previous to the prediction time t with 9 channels, 50 rows and 50 columns \n",
    "- a two layer convLSTM serves as encoder, of which the memory state of the final cell are \n",
    "    repeated three times (corresponding to the prediction horizon of 5, 10, and 15 minutes). \n",
    "- a two layer convLSTM decoder produces the final predictions in the shape of (None, 3, 9, 50, 50).\n",
    "*Data Loading and Preprocessing*\n",
    "- the hdf5 file names in the training data directory are listed and filtered for used \n",
    "    defined excluded dates (e.g., holidays, not used here)\n",
    "- the data is then split along the first axis in 18 samples of 15 time bins each (12 as input, 3 as ground truth)\n",
    "- it is then transposed to the expected input shape of the model, and rescaled to 0-1.\n",
    "*Model Training*\n",
    "- the model is built and compiled with MSE loss and the ADAM optimizer (initial learning rate of 0.0001)\n",
    "- each training epoch, the data for one day is loaded and preprocessed, and the model is \n",
    "    trained using a batch size of 1. This process is repeated for all days before the next epoch begins.\n",
    "- the loss is logged after each iteration and the model parameters are saved after each epoch.\n",
    "\"\"\"\n",
    "\n",
    "#Model Definition\n",
    "    \n",
    "def build_model():\n",
    "    \"\"\"Build keras model.\n",
    "    \n",
    "        Returns: keras model\n",
    "    \"\"\"\n",
    "    \n",
    "    #define model input\n",
    "    data_shape = (12, 9, 50, 50)\n",
    "    prev_frames = layers.Input(shape=data_shape, name='prev_frames')\n",
    "    \n",
    "    #define layers\n",
    "    \n",
    "    convlstm_0 = layers.ConvLSTM2D(filters=32, kernel_size=(7, 7), padding='same', return_sequences=True, return_state=False,\n",
    "                         activation='tanh', recurrent_activation='hard_sigmoid',\n",
    "                         kernel_initializer='glorot_uniform', unit_forget_bias=True, \n",
    "                         data_format='channels_first', name='convlstm_0')\n",
    "\n",
    "    convlstm_1 = layers.ConvLSTM2D(filters=64, kernel_size=(7, 7), padding='same', return_sequences=False, return_state=True,\n",
    "                         activation='tanh', recurrent_activation='hard_sigmoid',\n",
    "                         kernel_initializer='glorot_uniform', unit_forget_bias=True, \n",
    "                         data_format='channels_first', name='convlstm_1')\n",
    "    \n",
    "   \n",
    "    convlstm_2 = layers.ConvLSTM2D(filters=64, kernel_size=(7, 7), padding='same', return_sequences=True, return_state=False,\n",
    "                         activation='tanh', recurrent_activation='hard_sigmoid',\n",
    "                         kernel_initializer='glorot_uniform', unit_forget_bias=True, \n",
    "                         data_format='channels_first', name='convlstm_2')\n",
    "\n",
    "    convlstm_3 = layers.ConvLSTM2D(filters=9, kernel_size=(7, 7), padding='same', return_sequences=True, return_state=False,\n",
    "                         activation='tanh', recurrent_activation='hard_sigmoid',\n",
    "                         kernel_initializer='glorot_uniform', unit_forget_bias=True, \n",
    "                         data_format='channels_first', name='convlstm_3')\n",
    "    \n",
    "        \n",
    "    #define model structure  \n",
    "    #encoder      \n",
    "    print('convlstm_0(prev_frames)')\n",
    "    x = convlstm_0(prev_frames)\n",
    "    print('begin: convlstm_1(x)[-1]')\n",
    "    x = convlstm_1(x)[-1]\n",
    " \n",
    "    \n",
    "    #flatten, repeat and reshape\n",
    "    print('flatten')\n",
    "    x = layers.Flatten()(x)\n",
    "    print('Repeat Vector')\n",
    "    x = layers.RepeatVector(3)(x)\n",
    "    print('Reshape')\n",
    "    x = layers.Reshape((3, 64, 50, 50))(x)\n",
    "\n",
    "    \n",
    "    #decoder\n",
    "    print('convlstm_2')\n",
    "    x = convlstm_2(x)\n",
    "    print(x.shape)\n",
    "\n",
    "    print('convlstm_3(x)')\n",
    "    x = convlstm_3(x)\n",
    "    print(x.shape)\n",
    "\n",
    "            \n",
    "    #build and return model\n",
    "    seq_model = models.Model(inputs=prev_frames, outputs=x)\n",
    "\n",
    "    print('Seq Model')\n",
    "    return seq_model\n",
    "\n",
    "#Training Procedure\n",
    "\n",
    "def model_train(model, data_dir, model_dir, log_path):\n",
    "    \"\"\"Build model, load data and train. Save model after each training epoch.\n",
    "    \n",
    "        Args.: \n",
    "            model (str): model used\n",
    "            data_dir (str): path to directory with training data\n",
    "            model_dir (str): path to directory to store model\n",
    "            log_path (str): path to log file\n",
    "        \n",
    "        Returns: Model\n",
    "    \"\"\"\n",
    "    \n",
    "    #generate log file\n",
    "#     log_file = open(log_path, 'w', newline='' )\n",
    "#     log_writer = csv.writer(log_file)\n",
    "#     log_writer.writerow(['epoch', 'file', 'loss'])\n",
    "    \n",
    "    #receive filenames of training days\n",
    "    file_names = list_filenames(data_dir)\n",
    "    \n",
    "    #train model for each training data set\n",
    "    epochs = 1\n",
    "    for e in range(epochs):\n",
    "        for f in file_names:\n",
    "            print('data load', f)\n",
    "            data = load(data_dir + f)\n",
    "            \n",
    "            #define first 12 time bins as input, last 3 as labels\n",
    "            #(18,15,9,50,50)\n",
    "            x = data[:, :12]\n",
    "            #(18,12,9,50,50)\n",
    "            y = data[:, 12:]\n",
    "            #(18,3,9,50,50)\n",
    "        \n",
    "            #train for mini-batches\n",
    "            \n",
    "            print('Model fit')\n",
    "            hist = model.fit(x, y, epochs=1, batch_size=1)\n",
    "            print('history loss')\n",
    "            loss = hist.history[\"loss\"]\n",
    "            \n",
    "            #log loss\n",
    "#             log_writer.writerow([e, f, loss[0]])\n",
    "#             log_file.flush()\n",
    "        print('model save')\n",
    "        model.save(model_dir + r'model_ep_2_Berlin_{}.h5'.format(e))    \n",
    "    return model\n",
    "        "
   ]
  },
  {
   "cell_type": "code",
   "execution_count": 4,
   "metadata": {
    "colab": {
     "base_uri": "https://localhost:8080/"
    },
    "id": "_x_twA_hGPUE",
    "outputId": "2b48d8ae-ad8c-464d-f11f-5d286b1ec621"
   },
   "outputs": [
    {
     "name": "stdout",
     "output_type": "stream",
     "text": [
      "convlstm_0(prev_frames)\n",
      "begin: convlstm_1(x)[-1]\n",
      "flatten\n",
      "Repeat Vector\n",
      "Reshape\n",
      "convlstm_2\n",
      "(None, 3, 64, 50, 50)\n",
      "convlstm_3(x)\n",
      "(None, 3, 9, 50, 50)\n",
      "Seq Model\n"
     ]
    }
   ],
   "source": [
    "#build and compile model\n",
    "model = build_model()\n",
    "optimizer = optimizers.Adam(lr=0.00005)\n",
    "model.compile(optimizer=optimizer, loss=losses.mean_squared_error, metrics=['accuracy'])"
   ]
  },
  {
   "cell_type": "code",
   "execution_count": null,
   "metadata": {
    "id": "Fzqcw9qvsh9q"
   },
   "outputs": [],
   "source": [
    "#Google Drive Directories\n",
    "# data_dir = '/content/drive/MyDrive/BERLIN/training/'\n",
    "### data_dir = '/content/drive/MyDrive/BerlinTest/Berlin_test/'\n",
    "#model_dir = '/content/drive/MyDrive/BerlinTest/ModelSave/'\n",
    "#log_path = '/content/log'\n",
    "\n",
    "\n",
    "#Local directories\n",
    "data_dir = './Berlin/training/'\n",
    "model_dir = './BerlinTest/ModelSave/'\n",
    "log_path = './log'\n",
    "\n",
    "city= 'Berlin'\n",
    "\n",
    "if city in (\"Berlin\",\"Istanbul\",\"Moscow\"):\n",
    "    training_file_dir = os.path.join(data_dir)\n",
    "\n",
    "    #comment out subsuquent line to create new model/leave uncommented to load model_ep_1_Berlin_9 \n",
    "#     model = models.load_model(model_dir+\"Trained_Model.h5\")\n",
    "\n",
    "    model = model_train(model, training_file_dir, model_dir, log_path)"
   ]
  },
  {
   "cell_type": "code",
   "execution_count": 27,
   "metadata": {
    "id": "qf24yUA3r8BV"
   },
   "outputs": [],
   "source": [
    "#Google Colab/Drive path\n",
    "# data_dir = '/content/drive/MyDrive/BERLIN/training/'\n",
    "# model_dir = '/content/drive/MyDrive/BerlinTest/ModelSave/'\n",
    "# log_path = '/content/log'\n",
    "\n",
    "#Local directories\n",
    "data_dir = './Berlin/training/'\n",
    "model_dir = './BerlinTest/ModelSave/'\n",
    "log_path = './log'\n",
    "\n",
    "city= 'Berlin'\n",
    "if city in (\"Berlin\",\"Istanbul\",\"Moscow\"):\n",
    "    training_file_dir = os.path.join(data_dir)\n",
    "    model = models.load_model(model_dir+\"Trained_Model.h5\")\n"
   ]
  },
  {
   "cell_type": "code",
   "execution_count": 5,
   "metadata": {
    "id": "2qvITIGSDpNT"
   },
   "outputs": [],
   "source": [
    "def model_evaluate(model, data_dir, model_dir, log_path):\n",
    "    \"\"\"Test the model and returns the loss and the accuracy\n",
    "    \n",
    "        Args.: \n",
    "            data_dir (str): path to directory with validation data\n",
    "            model_dir (str): path to directory to store model\n",
    "            log_path (str): path to log file\n",
    "        \n",
    "        Returns: loss, accuracy\n",
    "    \"\"\"\n",
    "\n",
    "\n",
    "    #load model\n",
    "    #reconstructed_model = models.load_model(\"/content/drive/MyDrive/BerlinTest/ModelSave/model_ep_1_Berlin_9.h5\")\n",
    "    reconstructed_model = model\n",
    "\n",
    "    \n",
    "    #receive filenames of validation days\n",
    "    file_names = list_filenames(data_dir)\n",
    "    \n",
    "    loss = []\n",
    "    accuracy = []\n",
    "\n",
    "    #train model for each training data set\n",
    "    for f in file_names:\n",
    "        print('data load', f)\n",
    "        data = load(data_dir + f)        \n",
    "        x = data[:, :12]\n",
    "        y = data[:, 12:]\n",
    "        \n",
    "        #train for mini-batches\n",
    "        \n",
    "        # Evaluate the model on the test data using `evaluate`\n",
    "        print(\"Evaluate on test data\")\n",
    "        results = reconstructed_model.evaluate(x, y)\n",
    "        print(\"test loss, test acc:\", results)\n",
    "        loss.append(results[0])\n",
    "        accuracy.append(results[1])\n",
    "            \n",
    "    return loss, accuracy\n",
    "        "
   ]
  },
  {
   "cell_type": "code",
   "execution_count": 29,
   "metadata": {
    "colab": {
     "base_uri": "https://localhost:8080/"
    },
    "id": "5Yxcl3w1ETOy",
    "outputId": "e84b3ae1-c6a1-46f9-cda8-2c6143980c1c"
   },
   "outputs": [
    {
     "name": "stdout",
     "output_type": "stream",
     "text": [
      "data load 2019-08-10_berlin_9ch.h5\n",
      "Evaluate on test data\n",
      "1/1 [==============================] - 11s 11s/step - loss: 0.0010 - accuracy: 0.3272\n",
      "test loss, test acc: [0.001036164932884276, 0.32720163464546204]\n",
      "data load 2019-07-21_berlin_9ch.h5\n",
      "Evaluate on test data\n",
      "1/1 [==============================] - 9s 9s/step - loss: 8.9389e-04 - accuracy: 0.3116\n",
      "test loss, test acc: [0.0008938870159909129, 0.31160494685173035]\n",
      "data load 2019-07-31_berlin_9ch.h5\n",
      "Evaluate on test data\n",
      "1/1 [==============================] - 9s 9s/step - loss: 0.0010 - accuracy: 0.2984\n",
      "test loss, test acc: [0.001038630842231214, 0.2984362244606018]\n",
      "data load 2019-07-01_berlin_9ch.h5\n",
      "Evaluate on test data\n",
      "1/1 [==============================] - 9s 9s/step - loss: 9.5518e-04 - accuracy: 0.3030\n",
      "test loss, test acc: [0.0009551830589771271, 0.3029629588127136]\n",
      "data load 2019-07-11_berlin_9ch.h5\n",
      "Evaluate on test data\n",
      "1/1 [==============================] - 10s 10s/step - loss: 9.3031e-04 - accuracy: 0.3380\n",
      "test loss, test acc: [0.0009303127299062908, 0.33798354864120483]\n"
     ]
    }
   ],
   "source": [
    "#Google Drive/Colab path\n",
    "###data_dir = '/content/drive/MyDrive/BerlinTest/Berlin_test/'\n",
    "# evaluate_dir = '/content/drive/MyDrive/BERLIN/validation/'\n",
    "# model_dir = '/content/'\n",
    "# log_path = '/content/log'\n",
    "\n",
    "#Local path\n",
    "evaluate_dir = './BERLIN/validation/'\n",
    "model_dir = '/content/'\n",
    "log_path = './log'\n",
    "\n",
    "city= 'Berlin'\n",
    "\n",
    "# loss_list=[]\n",
    "# accuracy_list=[]\n",
    "\n",
    "if city in (\"Berlin\",\"Istanbul\",\"Moscow\"):\n",
    "    evaluate_file_dir = os.path.join(evaluate_dir)\n",
    "    loss, accuracy = model_evaluate(model, evaluate_file_dir, model_dir, log_path)\n",
    "    # loss_list.append(loss)\n",
    "    # accuracy_list.append(accuracy)\n",
    "else:\n",
    "    print('invalid city provided')\n",
    "    sys.exit(2)"
   ]
  },
  {
   "cell_type": "code",
   "execution_count": 30,
   "metadata": {
    "colab": {
     "base_uri": "https://localhost:8080/"
    },
    "id": "7bUCa0JSCRBh",
    "outputId": "9d1733aa-c6fd-48a4-a943-847a8cd81e1d"
   },
   "outputs": [
    {
     "name": "stdout",
     "output_type": "stream",
     "text": [
      "[0.001036164932884276, 0.0008938870159909129, 0.001038630842231214, 0.0009551830589771271, 0.0009303127299062908]\n",
      "[0.32720163464546204, 0.31160494685173035, 0.2984362244606018, 0.3029629588127136, 0.33798354864120483]\n"
     ]
    }
   ],
   "source": [
    "print(loss)\n",
    "print(accuracy)"
   ]
  },
  {
   "cell_type": "code",
   "execution_count": 31,
   "metadata": {
    "colab": {
     "base_uri": "https://localhost:8080/",
     "height": 338
    },
    "id": "lPE8QQQRutG8",
    "outputId": "4da6dd3c-5710-4976-b72c-cfb99a9e342b"
   },
   "outputs": [
    {
     "name": "stdout",
     "output_type": "stream",
     "text": [
      "0.001036164932884276\n"
     ]
    },
    {
     "data": {
      "image/png": "[encoded data removed]",
      "text/plain": [
       "<Figure size 720x360 with 2 Axes>"
      ]
     },
     "metadata": {
      "needs_background": "light"
     },
     "output_type": "display_data"
    }
   ],
   "source": [
    "import matplotlib.pyplot as plt\n",
    "\n",
    "fig, (ax1, ax2) = plt.subplots(1, 2, figsize=(10,5))\n",
    "\n",
    "ax1.plot(range(len(loss)), loss)\n",
    "\n",
    "ax2.plot(range(len(accuracy)), accuracy)\n",
    "print(loss[0])\n",
    "plt.show()"
   ]
  },
  {
   "cell_type": "code",
   "execution_count": 32,
   "metadata": {
    "id": "6lISxcDpIlXX"
   },
   "outputs": [],
   "source": [
    "def load_test(file_path):\n",
    "    \"\"\"Load data for one day, return as numpy array with normalized samples of each\n",
    "        6 time steps in random order.\n",
    "    \n",
    "        Args.:\n",
    "            file_path (str): file path of h5 file for one day\n",
    "            \n",
    "        Returns: numpy array of shape (4, 12, 9, 50, 50)\n",
    "    \"\"\"\n",
    "    #load h5 file\n",
    "    fr = h5py.File(file_path, 'r')\n",
    "    group_key = list(fr.keys())[0]\n",
    "    data = list(fr[group_key])\n",
    "    data = np.array(data)\n",
    "    data = data[:,:,150:200,150:200,:]\n",
    "    data = np.transpose(data, (0, 1, 4, 2, 3))\n",
    "    return data"
   ]
  },
  {
   "cell_type": "code",
   "execution_count": 33,
   "metadata": {
    "id": "tHxWYbeDH2DC"
   },
   "outputs": [],
   "source": [
    "def model_test(model, data_dir, model_dir, log_path, excl_dates=[]):\n",
    "    \"\"\"\n",
    "    \n",
    "        Args.: \n",
    "            data_dir (str): path to directory with testing data\n",
    "            model_dir (str): path to directory to store model\n",
    "            log_path (str): path to log file\n",
    "        \n",
    "        Returns: Prediction\n",
    "    \"\"\"\n",
    "\n",
    "    #load model\n",
    "    #reconstructed_model = models.load_model(\"/content/drive/MyDrive/BerlinTest/ModelSave/model_ep_1_Berlin_9.h5\")\n",
    "    reconstructed_model = model\n",
    "    #receive filenames of training days\n",
    "    file_names = list_filenames(data_dir)\n",
    "\n",
    "    data_list = []\n",
    "    for file in file_names:\n",
    "        data = load_test(data_dir + file)\n",
    "        data_list.append(data)\n",
    "\n",
    "    prediction = reconstructed_model.predict(data_list[0])\n",
    "    #(n_predictions(1-6), time_steps(3), channels(9), width, height)\n",
    "\n",
    "    return prediction"
   ]
  },
  {
   "cell_type": "code",
   "execution_count": 35,
   "metadata": {
    "id": "44rk_esEHsiE"
   },
   "outputs": [],
   "source": [
    "#Google Drive/Colab path\n",
    "###data_dir = '/content/drive/MyDrive/BerlinTest/Berlin_test/'\n",
    "# testing_dir = '/content/drive/MyDrive/BerlinTest/Test/'\n",
    "# model_dir = 'models.load_model(\"/content/drive/MyDrive/BerlinTest/ModelSave/\")'\n",
    "# log_path = '/content/log'\n",
    "\n",
    "#Local path\n",
    "testing_dir = './BerlinTest/Test/'\n",
    "model_dir = 'models.load_model(\"./BerlinTest/ModelSave/\")'\n",
    "log_path = './log'\n",
    "\n",
    "city= 'Berlin'\n",
    "\n",
    "if city in (\"Berlin\",\"Istanbul\",\"Moscow\"):\n",
    "    testing_file_dir = os.path.join(testing_dir)\n",
    "    prediction = model_test(model, testing_file_dir, model_dir, log_path)\n",
    "else:\n",
    "    print('invalid city provided')\n",
    "    sys.exit(2)"
   ]
  },
  {
   "cell_type": "code",
   "execution_count": 36,
   "metadata": {
    "colab": {
     "base_uri": "https://localhost:8080/"
    },
    "id": "uxpOziqJHtCR",
    "outputId": "7e327799-be98-49d1-9e0e-1b5f8a39f301"
   },
   "outputs": [
    {
     "name": "stdout",
     "output_type": "stream",
     "text": [
      "(3, 3, 9, 50, 50)\n"
     ]
    }
   ],
   "source": [
    "print(prediction.shape)"
   ]
  },
  {
   "cell_type": "code",
   "execution_count": 37,
   "metadata": {
    "colab": {
     "base_uri": "https://localhost:8080/",
     "height": 283
    },
    "id": "PP4iFKWf4KtV",
    "outputId": "a32a97a7-df09-4c05-ce24-8e195a73ecbb"
   },
   "outputs": [
    {
     "data": {
      "text/plain": [
       "<matplotlib.image.AxesImage at 0x1c6096a6070>"
      ]
     },
     "execution_count": 37,
     "metadata": {},
     "output_type": "execute_result"
    },
    {
     "data": {
      "image/png": "[encoded data removed]",
      "text/plain": [
       "<Figure size 432x288 with 1 Axes>"
      ]
     },
     "metadata": {
      "needs_background": "light"
     },
     "output_type": "display_data"
    }
   ],
   "source": [
    "plt.imshow(prediction[0,2,1,:,:], cmap='gray')"
   ]
  },
  {
   "cell_type": "markdown",
   "metadata": {
    "id": "S7IedmivODOG"
   },
   "source": [
    "GENERATE THE GIF's\n"
   ]
  },
  {
   "cell_type": "code",
   "execution_count": 43,
   "metadata": {
    "colab": {
     "base_uri": "https://localhost:8080/"
    },
    "id": "Ca62SDfZMdPx",
    "outputId": "616505ae-a6fb-49a2-d1db-b896d914fd85"
   },
   "outputs": [],
   "source": [
    "# pip install pygifsicle"
   ]
  },
  {
   "cell_type": "code",
   "execution_count": 44,
   "metadata": {
    "colab": {
     "base_uri": "https://localhost:8080/"
    },
    "id": "Km_Nh5jIMefX",
    "outputId": "ee9afd36-3ed8-4db6-dacb-92b5059f71c4"
   },
   "outputs": [],
   "source": [
    "# pip install imageio"
   ]
  },
  {
   "cell_type": "code",
   "execution_count": 45,
   "metadata": {
    "colab": {
     "base_uri": "https://localhost:8080/"
    },
    "id": "EEZiSZqqMf9V",
    "outputId": "bf708dbc-8bb5-4907-d8ca-107d37258fac"
   },
   "outputs": [],
   "source": [
    "# pip install imageio-ffmpeg"
   ]
  },
  {
   "cell_type": "code",
   "execution_count": 48,
   "metadata": {
    "colab": {
     "base_uri": "https://localhost:8080/"
    },
    "id": "3qzTgDbT3fcZ",
    "outputId": "5672ff6e-8665-44ca-ae2b-def6a3ffe4ae"
   },
   "outputs": [
    {
     "name": "stdout",
     "output_type": "stream",
     "text": [
      "predictions save\n",
      "(3, 3, 50, 50, 9)\n",
      "data (3, 3, 50, 50, 9)\n",
      "predictions (3, 50, 50, 9)\n"
     ]
    }
   ],
   "source": [
    "##save predictions\n",
    "print('predictions save')\n",
    "h5f = h5py.File('./predictions/prediction_ep_5_2.h5', 'w')\n",
    "\n",
    "data1 = np.transpose(prediction, (0,1,3,4,2))\n",
    "print(data1.shape)\n",
    "hourToPredict = data1[0,:,:,:]\n",
    "print(\"data\",data1.shape)\n",
    "print(\"predictions\",hourToPredict.shape)\n",
    "\n",
    "h5f.create_dataset('dataset_1', data=hourToPredict)\n",
    "h5f.close()"
   ]
  },
  {
   "cell_type": "code",
   "execution_count": 50,
   "metadata": {
    "colab": {
     "base_uri": "https://localhost:8080/"
    },
    "id": "hHasGEgS3los",
    "outputId": "cb48d6c0-3de2-41e1-a190-3ae9cdd4ab67"
   },
   "outputs": [
    {
     "name": "stdout",
     "output_type": "stream",
     "text": [
      "(3, 50, 50, 9)\n",
      "(3, 50, 50, 9)\n",
      "image ./gifs/test_final_predict_3000.png written\n",
      "image ./gifs/test_final_predict_3001.png written\n",
      "image ./gifs/test_final_predict_3002.png written\n"
     ]
    }
   ],
   "source": [
    "import numpy as np\n",
    "# import util\n",
    "from PIL import Image\n",
    "import sys, getopt\n",
    "import numpy as np\n",
    "import os, csv, sys\n",
    "import h5py\n",
    "\n",
    "#Google drive/colab path\n",
    "# input_file ='/content/prediction_ep_5_2.h5'\n",
    "# #input_file = '/content/drive/MyDrive/BerlinTest/Evaluate/2019-07-01_berlin_9ch.h5'\n",
    "# output_name_stub='/content/drive/MyDrive/GifTest/FinalGIF/'\n",
    "\n",
    "#local drive path\n",
    "input_file ='./predictions/prediction_ep_5_2.h5'\n",
    "output_name_stub='./gifs/'\n",
    "\n",
    "channel=int(3)\n",
    "factor=int(2050)\n",
    "\n",
    "def load_h5_file(file_path):\n",
    "    \"\"\"\n",
    "    Given a file path to an h5 file assumed to house a tensor, \n",
    "    load that tensor into memory and return a pointer.\n",
    "    \"\"\"\n",
    "    # load\n",
    "    fr = h5py.File(file_path, 'r')\n",
    "    group_key = list(fr.keys())[0]\n",
    "    data = list(fr[group_key])\n",
    "    # transform to appropriate numpy array \n",
    "    #print(data[0:])\n",
    "    data=data[0:]\n",
    "    #print(data.shape)\n",
    "    data = np.stack(data, axis=0)\n",
    "    print(data.shape)\n",
    "    return data\n",
    "\n",
    "data = load_h5_file(input_file)\n",
    "print(data.shape)\n",
    "for i in range(data.shape[0]):\n",
    "    d = np.clip(data[i,:,:,channel]*factor, 0, 255).astype('uint8')\n",
    "    img = Image.fromarray(d, mode='L')\n",
    "    name = output_name_stub+\"test_final_predict_3\"+\"{:03d}\".format(i)+\".png\"\n",
    "    img.save(name)\n",
    "    print(\"image {0} written\".format(name))"
   ]
  },
  {
   "cell_type": "code",
   "execution_count": null,
   "metadata": {
    "id": "joXOnbh3Wn8L"
   },
   "outputs": [],
   "source": [
    "import numpy as np\n",
    "# import util\n",
    "from PIL import Image\n",
    "import sys, getopt\n",
    "import numpy as np\n",
    "import os, csv, sys\n",
    "import h5py\n",
    "\n",
    "#google drive/colab path\n",
    "# input_file = '/content/prediction_ep_5_' #_1.h5\n",
    "# output_name_stub='/content/drive/MyDrive/GifTest/'\n",
    "\n",
    "#local path\n",
    "input_file = './predictions/prediction_ep_5_' #_1.h5\n",
    "output_name_stub='./gifs/'\n",
    "\n",
    "channel=int(0)\n",
    "factor=int(255)\n",
    "\n",
    "#for the first channel\n",
    "for i in range(len(prediction)): #loop over the \"m\" the different prediction in a day\n",
    "    for j in range(prediction[0].shape[1]): #loop over the 3 images of the prediction (t+5, t+10, t+15)\n",
    "        for k in range(8): #Loop over the channels\n",
    "            d = np.clip(prediction[i][0][j][k]*255, 0, 255).astype('uint8')\n",
    "            #d = np.clip(data[i][0,channel,:,:]*factor, 0, 255).astype('uint8')\n",
    "\n",
    "            img = Image.fromarray(d, mode='L')\n",
    "            #mkdir('content/drive/MyDrive/Bite/')\n",
    "            name = output_name_stub+ \"prediction_\" + str(i) + \"/test_\"+ str(j)+\"_channel_\"+str(k)+\".png\"\n",
    "            img.save(name)\n",
    "            print(\"image {0} written\".format(name))\n",
    "        \n"
   ]
  },
  {
   "cell_type": "code",
   "execution_count": null,
   "metadata": {
    "id": "i-jL-jaOM62q"
   },
   "outputs": [],
   "source": [
    "import imageio\n",
    "from pathlib import Path\n",
    "\n",
    "image_path = '/content/drive/MyDrive/GifTest/'\n",
    "\n",
    "\n",
    "for i in range(len(predictions)):\n",
    "    path = Path(image_path + \"prediction_\" + str(i) + \"/\")\n",
    "    images = list(path.glob('*.png'))\n",
    "    image_list = []\n",
    "    for file_name in images:\n",
    "      image_list.append(imageio.imread(file_name))\n",
    "      imageio.mimwrite('gif_berlin_03_01.gif', image_list)\n",
    "      print(\"completed!\")"
   ]
  }
 ],
 "metadata": {
  "accelerator": "GPU",
  "colab": {
   "collapsed_sections": [],
   "machine_shape": "hm",
   "name": "Network Submission",
   "provenance": []
  },
  "kernelspec": {
   "display_name": "Python 3",
   "language": "python",
   "name": "python3"
  },
  "language_info": {
   "codemirror_mode": {
    "name": "ipython",
    "version": 3
   },
   "file_extension": ".py",
   "mimetype": "text/x-python",
   "name": "python",
   "nbconvert_exporter": "python",
   "pygments_lexer": "ipython3",
   "version": "3.8.3"
  }
 },
 "nbformat": 4,
 "nbformat_minor": 1
}
